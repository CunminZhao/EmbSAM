{
 "cells": [
  {
   "cell_type": "code",
   "execution_count": null,
   "id": "5a902cda-9239-4263-8c22-e00569b91be7",
   "metadata": {},
   "outputs": [],
   "source": [
    "!pip install xlrd>=2.0.1\n",
    "!pip install pandas"
   ]
  },
  {
   "cell_type": "code",
   "execution_count": 4,
   "id": "5f673055-1548-4cb7-9dc9-90eea7a5a690",
   "metadata": {},
   "outputs": [
    {
     "name": "stdout",
     "output_type": "stream",
     "text": [
      "Created DataS1_CellTracing.csv_Data S1.csv from sheet Data S1\n"
     ]
    }
   ],
   "source": [
    "import pandas as pd\n",
    "def convert_all_sheets_xls_to_csv(xls_file_path, csv_file_base_path):\n",
    "    xls = pd.ExcelFile(xls_file_path)\n",
    "    for sheet_name in xls.sheet_names:\n",
    "        df = pd.read_excel(xls_file_path, sheet_name=sheet_name)\n",
    "        csv_file_path = f\"{csv_file_base_path}_{sheet_name}.csv\"\n",
    "        df.to_csv(csv_file_path, index=False)\n",
    "        print(f\"Created {csv_file_path} from sheet {sheet_name}\")\n",
    "\n",
    "convert_all_sheets_xls_to_csv('DataS1_CellTracing.xls', 'DataS1_CellTracing.csv')"
   ]
  },
  {
   "cell_type": "code",
   "execution_count": 3,
   "id": "fd1a4aba-1841-40f3-be99-19554301d0b6",
   "metadata": {},
   "outputs": [
    {
     "name": "stdout",
     "output_type": "stream",
     "text": [
      "[1, 2, 3, 4, 5, 6, 7, 8, 9, 10, 11, 12, 13, 14, 15, 16, 17, 18, 19, 20, 21, 22, 23, 24, 25, 26, 27, 28, 29, 30, 31, 32, 33, 34, 35, 36, 37, 38, 39, 40, 41, 42, 43, 44, 45, 46, 47, 48, 49, 50, 51, 52, 53, 54, 55, 56, 57, 58, 59, 60, 61, 62, 63, 64, 65, 66, 67, 68, 69, 70, 71, 72, 73, 74, 75, 76, 77, 78, 79, 80, 81, 82, 83, 84, 85, 86, 87, 88, 89, 90, 91, 92, 93, 94, 95, 96, 97, 98, 99, 100, 101, 102, 103, 104, 105, 106, 107, 108, 109, 110, 111, 112, 113, 114, 115, 116, 117, 118, 119, 120, 121, 122, 123, 124, 125, 126, 127, 128, 129, 130, 131, 132, 133, 134, 135, 136, 137, 138, 139, 140, 141, 142, 143, 144, 145, 146, 147, 148, 149, 150, 151, 152, 153, 154, 155, 156, 157, 158, 159, 160, 161, 162, 163, 164, 165, 166, 167, 168, 169, 170, 171, 172, 173, 174, 175, 176, 177, 178, 179, 180, 181, 182, 183, 184, 185, 186, 187, 188, 189, 190, 191, 192, 193, 194, 195, 196, 197, 198, 199, 200, 201, 202, 203, 204, 205, 206, 207, 208, 209, 210, 211, 212, 213, 214, 215, 216, 217, 218, 219, 220, 221, 222, 223, 224, 225, 226, 227, 228, 229, 230, 231, 232, 233, 234, 235, 236, 237, 238, 239, 240, 241, 242, 243, 244, 245, 246, 247, 248, 249, 250, 251, 252, 253, 254, 255, 256, 257, 258, 259, 260, 261, 262, 263, 264, 265, 266, 267, 268, 269, 270, 271, 272, 273, 274, 275, 276, 277, 278, 279, 280, 281, 282, 283, 284, 285, 286, 287, 288, 289, 290, 291, 292, 293, 294, 295, 296, 297, 298, 299, 300]\n"
     ]
    }
   ],
   "source": [
    "print([i for i in range(1,301)])"
   ]
  },
  {
   "cell_type": "code",
   "execution_count": null,
   "id": "1eae3e33-0a3e-424e-991f-bdc0eb6d13c4",
   "metadata": {},
   "outputs": [],
   "source": []
  },
  {
   "cell_type": "code",
   "execution_count": 10,
   "id": "d261cc7b-6895-4b7e-8984-3f40706a0bca",
   "metadata": {},
   "outputs": [
    {
     "name": "stdout",
     "output_type": "stream",
     "text": [
      "time\n",
      "1      4\n",
      "2      4\n",
      "3      4\n",
      "4      4\n",
      "5      4\n",
      "6      4\n",
      "7      4\n",
      "8      6\n",
      "9      6\n",
      "10     6\n",
      "11     7\n",
      "12     7\n",
      "13     8\n",
      "14     8\n",
      "15     8\n",
      "16     8\n",
      "17     8\n",
      "18     8\n",
      "19    10\n",
      "20    12\n",
      "21    12\n",
      "22    12\n",
      "23    12\n",
      "24    12\n",
      "25    14\n",
      "26    14\n",
      "27    14\n",
      "28    15\n",
      "29    15\n",
      "30    15\n",
      "31    15\n",
      "32    15\n",
      "33    21\n",
      "34    24\n",
      "35    24\n",
      "36    24\n",
      "37    24\n",
      "38    24\n",
      "39    24\n",
      "40    24\n",
      "41    25\n",
      "42    26\n",
      "43    26\n",
      "44    26\n",
      "45    26\n",
      "46    27\n",
      "47    28\n",
      "48    28\n",
      "49    28\n",
      "50    28\n",
      "51    29\n",
      "52    36\n",
      "53    41\n",
      "54    43\n",
      "55    45\n",
      "56    45\n",
      "57    45\n",
      "58    46\n",
      "59    47\n",
      "60    47\n",
      "Name: cell, dtype: int64\n"
     ]
    }
   ],
   "source": [
    "import pandas as pd\n",
    "\n",
    "def count_cells_by_time(csv_file):\n",
    "    df = pd.read_csv(csv_file)\n",
    "    if 'time' not in df.columns or 'cell' not in df.columns:\n",
    "        raise ValueError(\"CSV文件中必须包含'time'和'cell'列。\")\n",
    "    cell_count_by_time = df.groupby('time')['cell'].count()\n",
    "    \n",
    "    return cell_count_by_time\n",
    "print(count_cells_by_time('./CD190311plc1mp1.csv'))"
   ]
  },
  {
   "cell_type": "code",
   "execution_count": 11,
   "id": "820e57a9-19c5-4b75-8028-383cdec19db3",
   "metadata": {},
   "outputs": [
    {
     "name": "stdout",
     "output_type": "stream",
     "text": [
      "time\n",
      "1      4\n",
      "2      4\n",
      "3      4\n",
      "4      4\n",
      "5      4\n",
      "6      4\n",
      "7      4\n",
      "8      6\n",
      "9      6\n",
      "10     6\n",
      "11     7\n",
      "12     7\n",
      "13     8\n",
      "14     8\n",
      "15     8\n",
      "16     8\n",
      "17     8\n",
      "18     8\n",
      "19    10\n",
      "20    12\n",
      "21    12\n",
      "22    12\n",
      "23    12\n",
      "24    12\n",
      "25    14\n",
      "26    14\n",
      "27    14\n",
      "28    15\n",
      "29    15\n",
      "30    15\n",
      "31    15\n",
      "32    15\n",
      "33    21\n",
      "34    24\n",
      "35    24\n",
      "36    24\n",
      "37    24\n",
      "38    24\n",
      "39    24\n",
      "40    24\n",
      "41    25\n",
      "42    26\n",
      "43    26\n",
      "44    26\n",
      "45    26\n",
      "46    27\n",
      "47    28\n",
      "48    28\n",
      "49    28\n",
      "50    28\n",
      "51    29\n",
      "52    36\n",
      "53    41\n",
      "54    43\n",
      "55    45\n",
      "56    45\n",
      "57    45\n",
      "58    46\n",
      "59    47\n",
      "60    47\n",
      "Name: cell, dtype: int64\n"
     ]
    }
   ],
   "source": [
    "pd.set_option('display.max_rows', None)\n",
    "print(count_cells_by_time('./CD190311plc1mp1.csv'))"
   ]
  },
  {
   "cell_type": "code",
   "execution_count": 2,
   "id": "96e40547-d57a-4982-b577-b4688a8a1fdb",
   "metadata": {},
   "outputs": [
    {
     "name": "stdout",
     "output_type": "stream",
     "text": [
      "time\n",
      "1       4\n",
      "2       4\n",
      "3       4\n",
      "4       4\n",
      "5       4\n",
      "       ..\n",
      "296    26\n",
      "297    26\n",
      "298    26\n",
      "299    26\n",
      "300    26\n",
      "Name: cell, Length: 300, dtype: int64\n"
     ]
    }
   ],
   "source": [
    "print(count_cells_by_time('./CD190315plc1mp1.csv'))"
   ]
  },
  {
   "cell_type": "code",
   "execution_count": null,
   "id": "ce788f1b-7c9d-42b0-a584-58625b26508d",
   "metadata": {},
   "outputs": [],
   "source": []
  },
  {
   "cell_type": "code",
   "execution_count": null,
   "id": "702682e3-e941-4304-b791-9cdeeffc5cec",
   "metadata": {},
   "outputs": [],
   "source": []
  },
  {
   "cell_type": "code",
   "execution_count": 4,
   "id": "ffef78d3-b763-4bf9-be21-1ac29fe4ae39",
   "metadata": {},
   "outputs": [
    {
     "name": "stdout",
     "output_type": "stream",
     "text": [
      "[1, 2, 3, 4, 5, 6, 7, 8, 9, 10, 11, 12, 13, 14, 15, 16, 17, 18, 19, 20, 21, 22, 23, 24, 25, 26, 27, 28, 29, 30, 31, 32, 33, 34, 35, 36, 37, 38, 39, 40, 41, 42, 43, 44, 45, 46, 47, 48, 49, 50, 51, 52, 53, 54, 55, 56, 57, 58, 59, 60, 61, 62, 63, 64, 65, 66, 67, 68, 69, 70, 71, 72, 73, 74, 75, 76, 77, 78, 79, 80, 81, 82, 83, 84, 85, 86, 87, 88, 89, 90, 91, 92, 93, 94, 95, 96, 97, 98, 99, 100, 101, 102, 103, 104, 105, 106, 107, 108, 109, 110, 111, 112, 113, 114, 115, 116, 117, 118, 119, 120, 121, 122, 123, 124, 125, 126, 127, 128, 129, 130, 131, 132, 133, 134, 135, 136, 137, 138, 139, 140, 141, 142, 143, 144, 145, 146, 147, 148, 149, 150, 151, 152, 153, 154, 155, 156, 157, 158, 159, 160, 161, 162, 163, 164, 165, 166, 167, 168, 169, 170, 171, 172, 173, 174, 175, 176, 177, 178, 179, 180, 181, 182, 183, 184, 185, 186, 187, 188, 189, 190, 191, 192, 193, 194, 195, 196, 197, 198, 199, 200, 201, 202, 203, 204, 205, 206, 207, 208, 209, 210, 211, 212, 213, 214, 215, 216, 217, 218, 219, 220, 221, 222, 223, 224, 225, 226, 227, 228, 229, 230, 231, 232, 233, 234, 235, 236, 237, 238, 239, 240, 241, 242, 243, 244, 245, 246, 247, 248, 249, 250, 251, 252, 253, 254, 255, 256, 257, 258, 259, 260, 261, 262, 263, 264, 265, 266, 267, 268, 269, 270, 271, 272, 273, 274, 275, 276, 277, 278, 279, 280, 281, 282, 283, 284, 285, 286, 287, 288, 289, 290, 291, 292, 293, 294, 295, 296, 297, 298, 299, 300]\n"
     ]
    }
   ],
   "source": [
    "print([i for i in range(1,301)])"
   ]
  },
  {
   "cell_type": "code",
   "execution_count": null,
   "id": "2a6835d6-442b-4962-95b7-a88edcf8f2cb",
   "metadata": {},
   "outputs": [],
   "source": []
  }
 ],
 "metadata": {
  "kernelspec": {
   "display_name": "Python 3 (ipykernel)",
   "language": "python",
   "name": "python3"
  },
  "language_info": {
   "codemirror_mode": {
    "name": "ipython",
    "version": 3
   },
   "file_extension": ".py",
   "mimetype": "text/x-python",
   "name": "python",
   "nbconvert_exporter": "python",
   "pygments_lexer": "ipython3",
   "version": "3.11.0"
  }
 },
 "nbformat": 4,
 "nbformat_minor": 5
}
