{
 "cells": [
  {
   "cell_type": "code",
   "execution_count": null,
   "id": "5a902cda-9239-4263-8c22-e00569b91be7",
   "metadata": {},
   "outputs": [],
   "source": [
    "!pip install xlrd>=2.0.1\n",
    "!pip install pandas"
   ]
  },
  {
   "cell_type": "code",
   "execution_count": 4,
   "id": "5f673055-1548-4cb7-9dc9-90eea7a5a690",
   "metadata": {},
   "outputs": [
    {
     "name": "stdout",
     "output_type": "stream",
     "text": [
      "Created DataS1_CellTracing.csv_Data S1.csv from sheet Data S1\n"
     ]
    }
   ],
   "source": [
    "import pandas as pd\n",
    "def convert_all_sheets_xls_to_csv(xls_file_path, csv_file_base_path):\n",
    "    xls = pd.ExcelFile(xls_file_path)\n",
    "    for sheet_name in xls.sheet_names:\n",
    "        df = pd.read_excel(xls_file_path, sheet_name=sheet_name)\n",
    "        csv_file_path = f\"{csv_file_base_path}_{sheet_name}.csv\"\n",
    "        df.to_csv(csv_file_path, index=False)\n",
    "        print(f\"Created {csv_file_path} from sheet {sheet_name}\")\n",
    "\n",
    "convert_all_sheets_xls_to_csv('DataS1_CellTracing.xls', 'DataS1_CellTracing.csv')"
   ]
  },
  {
   "cell_type": "code",
   "execution_count": null,
   "id": "fd1a4aba-1841-40f3-be99-19554301d0b6",
   "metadata": {},
   "outputs": [],
   "source": []
  }
 ],
 "metadata": {
  "kernelspec": {
   "display_name": "Python 3 (ipykernel)",
   "language": "python",
   "name": "python3"
  },
  "language_info": {
   "codemirror_mode": {
    "name": "ipython",
    "version": 3
   },
   "file_extension": ".py",
   "mimetype": "text/x-python",
   "name": "python",
   "nbconvert_exporter": "python",
   "pygments_lexer": "ipython3",
   "version": "3.11.0"
  }
 },
 "nbformat": 4,
 "nbformat_minor": 5
}
